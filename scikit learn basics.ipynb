{
 "cells": [
  {
   "cell_type": "code",
   "execution_count": 349,
   "metadata": {},
   "outputs": [],
   "source": [
    "\n",
    "\n",
    "class Review:\n",
    "    def __init__(self, text, score):\n",
    "        self.text = text\n",
    "        self.score = score"
   ]
  },
  {
   "cell_type": "code",
   "execution_count": 350,
   "metadata": {},
   "outputs": [
    {
     "name": "stdout",
     "output_type": "stream",
     "text": [
      "{\"reviewerID\": \"A1F2H80A1ZNN1N\", \"asin\": \"B00GDM3NQC\", \"reviewerName\": \"Connie Correll\", \"helpful\": [0, 0], \"reviewText\": \"I bought both boxed sets, books 1-5.  Really a great series!  Start book 1 three weeks ago and just finished book 5.  Sloane Monroe is a great character and being able to follow her through both private life and her PI life gets a reader very involved!  Although clues may be right in front of the reader, there are twists and turns that keep one guessing until the last page!  These are books you won't be disappointed with.\", \"overall\": 5.0, \"summary\": \"Can't stop reading!\", \"unixReviewTime\": 1390435200, \"reviewTime\": \"01 23, 2014\"}\n",
      "\n"
     ]
    }
   ],
   "source": [
    "import json\n",
    "file_name = \"Books_small_10000.json\"\n",
    "with open(file_name) as f:\n",
    "    for line in f:\n",
    "        print(line)\n",
    "        break"
   ]
  },
  {
   "cell_type": "code",
   "execution_count": 351,
   "metadata": {},
   "outputs": [
    {
     "name": "stdout",
     "output_type": "stream",
     "text": [
      "I bought both boxed sets, books 1-5.  Really a great series!  Start book 1 three weeks ago and just finished book 5.  Sloane Monroe is a great character and being able to follow her through both private life and her PI life gets a reader very involved!  Although clues may be right in front of the reader, there are twists and turns that keep one guessing until the last page!  These are books you won't be disappointed with.\n",
      "5.0\n"
     ]
    }
   ],
   "source": [
    "import json\n",
    "file_name = \"Books_small_10000.json\"\n",
    "with open(file_name) as f:\n",
    "    for line in f:\n",
    "        review = json.loads(line)\n",
    "        print(review[\"reviewText\"])\n",
    "        print(review[\"overall\"])\n",
    "        break"
   ]
  },
  {
   "cell_type": "code",
   "execution_count": 352,
   "metadata": {},
   "outputs": [
    {
     "data": {
      "text/plain": [
       "(\"Jussi Adler-Olsen does it again bringing just the right mount of curiosity and intrigue to keep you turning those pages.  You become so Intwined with the characters nod their lives while following the mystery of who done. And what a twist at the end!!! Can't wait for the next book!\",\n",
       " 5.0)"
      ]
     },
     "execution_count": 352,
     "metadata": {},
     "output_type": "execute_result"
    }
   ],
   "source": [
    "# Instead of the upper one you can to like this\n",
    "import json\n",
    "file_name = \"Books_small_10000.json\"\n",
    "reviews = []\n",
    "with open(file_name) as f:\n",
    "    for line in f:\n",
    "        review = json.loads(line)\n",
    "        reviews.append((review[\"reviewText\"], review[\"overall\"]))\n",
    "        \n",
    "reviews[14]"
   ]
  },
  {
   "cell_type": "code",
   "execution_count": 353,
   "metadata": {},
   "outputs": [
    {
     "data": {
      "text/plain": [
       "5.0"
      ]
     },
     "execution_count": 353,
     "metadata": {},
     "output_type": "execute_result"
    }
   ],
   "source": [
    "import json\n",
    "file_name = \"Books_small_10000.json\"\n",
    "reviews = []\n",
    "with open(file_name) as f:\n",
    "    for line in f:\n",
    "        review = json.loads(line)\n",
    "        reviews.append((review[\"reviewText\"], review[\"overall\"]))\n",
    "        \n",
    "reviews[14][1]"
   ]
  },
  {
   "cell_type": "code",
   "execution_count": 354,
   "metadata": {},
   "outputs": [
    {
     "data": {
      "text/plain": [
       "\"Jussi Adler-Olsen does it again bringing just the right mount of curiosity and intrigue to keep you turning those pages.  You become so Intwined with the characters nod their lives while following the mystery of who done. And what a twist at the end!!! Can't wait for the next book!\""
      ]
     },
     "execution_count": 354,
     "metadata": {},
     "output_type": "execute_result"
    }
   ],
   "source": [
    "# by using class method\n",
    "import json\n",
    "file_name = \"Books_small_10000.json\"\n",
    "reviews = []\n",
    "with open(file_name) as f:\n",
    "    for line in f:\n",
    "        review = json.loads(line)\n",
    "        reviews.append(Review(review[\"reviewText\"], review[\"overall\"]))\n",
    "        \n",
    "\n",
    "reviews[5].score\n",
    "reviews[14].text"
   ]
  },
  {
   "cell_type": "markdown",
   "metadata": {},
   "source": [
    "## Data Class"
   ]
  },
  {
   "cell_type": "code",
   "execution_count": 355,
   "metadata": {},
   "outputs": [],
   "source": [
    "# Sentiment come to the play\n",
    "import random\n",
    "\n",
    "class Sentiment:\n",
    "    NEGATIVE = \"NEGATIVE\"\n",
    "    POSITIVE = \"POSITIVE\"\n",
    "    NUETRAL = \"NUETRAL\"\n",
    "    \n",
    "class Review:\n",
    "    def __init__(self, text, score):\n",
    "        self.score = score\n",
    "        self.text = text\n",
    "        self.sentiment = self.get_sentiment()\n",
    "    \n",
    "    def get_sentiment(self):\n",
    "        if self.score <= 2:\n",
    "            return Sentiment.NEGATIVE\n",
    "        elif self.score == 3:\n",
    "            return Sentiment.NUETRAL\n",
    "        else: #score is 4 or 5\n",
    "            return Sentiment.POSITIVE\n",
    "        \n",
    "class ReviewContainer:\n",
    "    def __init__(self, reviews):\n",
    "        self.reviews = reviews\n",
    "        \n",
    "    def get_text(self):\n",
    "        return [x.text for x in self.reviews]\n",
    "    \n",
    "    def get_sentiment(self):\n",
    "        return [x.sentiment for x in self.reviews]\n",
    "    \n",
    "    def evenly_distribute(self):\n",
    "        negative = list(filter(lambda x: x.sentiment == Sentiment.NEGATIVE, self.reviews))\n",
    "        positive = list(filter(lambda x: x.sentiment == Sentiment.POSITIVE, self.reviews))\n",
    "        \n",
    "        # print(len(positive))\n",
    "        # print(len(negative))\n",
    "        # print(negative[0].text)\n",
    "        #  It means were -ve and +ve count should be equal\n",
    "        positive_shrunk = positive[:len(negative)]\n",
    "        self.reviews = negative + positive_shrunk\n",
    "        random.shuffle(self.reviews)\n",
    "        \n"
   ]
  },
  {
   "cell_type": "markdown",
   "metadata": {},
   "source": [
    "## Load Data"
   ]
  },
  {
   "cell_type": "code",
   "execution_count": 356,
   "metadata": {},
   "outputs": [
    {
     "data": {
      "text/plain": [
       "'POSITIVE'"
      ]
     },
     "execution_count": 356,
     "metadata": {},
     "output_type": "execute_result"
    }
   ],
   "source": [
    "import json\n",
    "file_name = \"Books_small_10000.json\"\n",
    "reviews = []\n",
    "with open(file_name) as f:\n",
    "    for line in f:\n",
    "        review = json.loads(line)\n",
    "        reviews.append(Review(review[\"reviewText\"], review[\"overall\"]))\n",
    "reviews[5].sentiment"
   ]
  },
  {
   "cell_type": "markdown",
   "metadata": {},
   "source": [
    "## Prep Data"
   ]
  },
  {
   "cell_type": "code",
   "execution_count": 357,
   "metadata": {},
   "outputs": [
    {
     "data": {
      "text/plain": [
       "10000"
      ]
     },
     "execution_count": 357,
     "metadata": {},
     "output_type": "execute_result"
    }
   ],
   "source": [
    "len (reviews)"
   ]
  },
  {
   "cell_type": "code",
   "execution_count": 358,
   "metadata": {},
   "outputs": [],
   "source": [
    "from sklearn.model_selection import train_test_split\n",
    "training, test = train_test_split(reviews, test_size = 0.33, random_state = 42)\n",
    "\n",
    "train_container = ReviewContainer(training)\n",
    "test_container = ReviewContainer(test)"
   ]
  },
  {
   "cell_type": "code",
   "execution_count": 359,
   "metadata": {},
   "outputs": [
    {
     "data": {
      "text/plain": [
       "3300"
      ]
     },
     "execution_count": 359,
     "metadata": {},
     "output_type": "execute_result"
    }
   ],
   "source": [
    "len(test)"
   ]
  },
  {
   "cell_type": "code",
   "execution_count": 360,
   "metadata": {},
   "outputs": [
    {
     "name": "stdout",
     "output_type": "stream",
     "text": [
      "4.0\n"
     ]
    }
   ],
   "source": [
    "# For test only 129 is last \n",
    "print(test[329].score)"
   ]
  },
  {
   "cell_type": "code",
   "execution_count": 361,
   "metadata": {},
   "outputs": [
    {
     "data": {
      "text/plain": [
       "6700"
      ]
     },
     "execution_count": 361,
     "metadata": {},
     "output_type": "execute_result"
    }
   ],
   "source": [
    "len(training)"
   ]
  },
  {
   "cell_type": "code",
   "execution_count": 362,
   "metadata": {},
   "outputs": [
    {
     "name": "stdout",
     "output_type": "stream",
     "text": [
      "I enjoyed this book tremendously! Has some surprising twists that were unexpected. The ending was definitely a &#34;hold your interest&#34; for the last few pages. I recommend it.\n"
     ]
    }
   ],
   "source": [
    "# For training oly 669 is last number\n",
    "print(training[699].text)"
   ]
  },
  {
   "cell_type": "code",
   "execution_count": 363,
   "metadata": {},
   "outputs": [
    {
     "name": "stdout",
     "output_type": "stream",
     "text": [
      "POSITIVE\n"
     ]
    }
   ],
   "source": [
    "\n",
    "print(training[78].sentiment)"
   ]
  },
  {
   "cell_type": "code",
   "execution_count": 364,
   "metadata": {},
   "outputs": [
    {
     "name": "stdout",
     "output_type": "stream",
     "text": [
      "436\n",
      "436\n"
     ]
    }
   ],
   "source": [
    "train_container.evenly_distribute()\n",
    "train_x = train_container.get_text()\n",
    "train_y = train_container.get_sentiment()\n",
    "\n",
    "test_container.evenly_distribute()\n",
    "test_x = test_container.get_text()\n",
    "test_y = test_container.get_sentiment()\n",
    "#train_x[669]\n",
    "\n",
    "#train_y[329]\n",
    "\n",
    "print(train_y.count(Sentiment.POSITIVE))\n",
    "print(train_y.count(Sentiment.NEGATIVE))"
   ]
  },
  {
   "cell_type": "markdown",
   "metadata": {},
   "source": [
    "## Bag of words Vectorization\n"
   ]
  },
  {
   "cell_type": "code",
   "execution_count": 365,
   "metadata": {},
   "outputs": [
    {
     "data": {
      "text/plain": [
       "<416x5873 sparse matrix of type '<class 'numpy.int64'>'\n",
       "\twith 26667 stored elements in Compressed Sparse Row format>"
      ]
     },
     "execution_count": 365,
     "metadata": {},
     "output_type": "execute_result"
    }
   ],
   "source": [
    "from sklearn.feature_extraction.text import CountVectorizer\n",
    "# From this you will get te no of rows and columns of it\n",
    "vectorizer = CountVectorizer()\n",
    "vectorizer.fit_transform(train_y)\n",
    "vectorizer.fit_transform(test_x)\n",
    "# According to this test has 300 = rows and 4974 = columns(english words)"
   ]
  },
  {
   "cell_type": "code",
   "execution_count": 366,
   "metadata": {
    "scrolled": true
   },
   "outputs": [
    {
     "name": "stdout",
     "output_type": "stream",
     "text": [
      "  (0, 5514)\t2\n",
      "  (0, 2811)\t1\n",
      "  (0, 4756)\t1\n",
      "  (0, 611)\t4\n",
      "  (0, 3899)\t1\n",
      "  (0, 3445)\t4\n",
      "  (0, 8161)\t1\n",
      "  (0, 7929)\t60\n",
      "  (0, 2077)\t7\n",
      "  (0, 8860)\t7\n",
      "  (0, 4931)\t9\n",
      "  (0, 6955)\t1\n",
      "  (0, 108)\t1\n",
      "  (0, 3677)\t1\n",
      "  (0, 6882)\t1\n",
      "  (0, 186)\t1\n",
      "  (0, 5478)\t37\n",
      "  (0, 525)\t1\n",
      "  (0, 116)\t1\n",
      "  (0, 3884)\t1\n",
      "  (0, 1712)\t1\n",
      "  (0, 117)\t2\n",
      "  (0, 4034)\t11\n",
      "  (0, 5583)\t2\n",
      "  (0, 8794)\t1\n",
      "  :\t:\n",
      "  (0, 1329)\t1\n",
      "  (0, 1143)\t1\n",
      "  (0, 5278)\t1\n",
      "  (0, 8748)\t1\n",
      "  (0, 5480)\t1\n",
      "  (0, 4893)\t1\n",
      "  (0, 8056)\t1\n",
      "  (0, 1609)\t1\n",
      "  (0, 5450)\t1\n",
      "  (0, 3029)\t1\n",
      "  (0, 3922)\t1\n",
      "  (0, 8859)\t1\n",
      "  (0, 8855)\t2\n",
      "  (0, 8464)\t2\n",
      "  (0, 5248)\t1\n",
      "  (0, 2053)\t1\n",
      "  (0, 8503)\t1\n",
      "  (0, 5309)\t2\n",
      "  (0, 4864)\t1\n",
      "  (0, 8633)\t1\n",
      "  (0, 3652)\t1\n",
      "  (0, 8843)\t1\n",
      "  (0, 8702)\t1\n",
      "  (0, 5239)\t1\n",
      "  (0, 7049)\t1\n",
      "One example: look at how Gordis treats the Deir Yassin massacre (see p. 75). He says accounts of the massacre are &#8220;hotly contested.&#8221; In other words, the truth cannot be ascertained. Gordis whitewashes the massacre, a war crime atrocity which is one chapter in the Israeli holocaust of the Palestinians. This type of holocaust denial will not land the denier in jail. There is not even a plaque marking the site of the Deir Yassin massacre. Never forget? When it comes to Israeli slaughters of Palestinians it is incumbent on us to forget in order to qualify as morally respectable in western eyes.Early in the morning of April 9, 1948, commandos of the Irgun, among whom was Mr. Gordis&#8217; hero Menachem Begin, and members of the Stern Gang, attacked Deir Yassin, an Arab village. It was several weeks before the end of the British Mandate and the declaration of the State of Israel. The village lay outside the area to be assigned by the United Nations to the Jewish state; it had a peaceful reputation; it was even said by a Jewish newspaper to have driven out some Arab militants. But it was located on high ground in the corridor between Tel Aviv and Jerusalem, and with the knowledge of the mainstream Jewish defense force, the Haganah, it was to be conquered and held.In spite of being better armed, the two Zionist terror gangs were at first unable to conquer the village. But after they elicited the help of a small band of Palmach troops (the elite fighters of the Haganah), Deir Yassin soon fell. The Palmach soldiers left; it was then that the massacre began. That evening over tea and cookies, in the neighboring Zionist settlement of Givat Shaul, the Jewish terrorist told foreign correspondents that over 200 Arabs were killed and forty taken prisoner. This was reported in the New York Times the very next day (April 10, 1948, p. 6).The Judaic terrorists claimed to have lost four of their own. They boasted of the &#34;battle&#34; but made no mention of the male Palestinians whom they had loaded onto trucks, paraded through some Jewish sections of Jerusalem, and then taken back to a stone quarry between Givat Shaul and Deir Yassin and shot to death. On April 13, 1948 the New York Times reported that 254 Arab men, women, and children had been killed at Deir Yassin; there was no mention of prisoners.The official Zionist leaders of the Haganah denounced the dissidents of the Irgun and the Stern Gang accusing them of massacre, robbery, looting and barbarism. Ben Gurion even sent an apology to King Abdullah. But this horrific act served the future state of Israel well. As Begin said, &#34;Arabs throughout the country, induced to believe wild tales of 'Irgun butchery' were seized with limitless panic and started to flee for their lives. This mass flight soon developed into a maddened, uncontrollable stampede. The political and economic significance of this development can hardly be over estimated.&#8221; (Begin, &#34;The Revolt,&#34; p.164)  While modern historians argue that Begin's claims were exaggerated and that the actual number of Arabs killed was closer to 100, they all agree that the massacre at Deir Yassin marked the beginning of the depopulation of over 400 Arab villages and the exile of over 700,000 Palestinians.In spite of protests by Martin Buber, Albert Einstein and other noted scholars, within a year the village was repopulated with orthodox Judaic immigrants from Poland, Rumania and Slovakia. Its Palestinian cemetery was bulldozed and its name was wiped off the map. It is today completely obliterated. The massacre site is a few hundred yards from the Yad Vashem Holocaust Museum dedicated to victims of the Nazis. Yad Vashem makes no mention of the massacre of Arabs by the Judaic Nazis among whom we number Menachem Begin. Gordis has written a whitewash of a mass murderer. Shame!\n"
     ]
    }
   ],
   "source": [
    "# Here you can get the picture of the words\n",
    "from sklearn.feature_extraction.text import CountVectorizer\n",
    "vectorizer = CountVectorizer()\n",
    "train_x_vector = vectorizer.fit_transform(train_x)\n",
    "\n",
    "print(train_x_vector[0])\n",
    "\n",
    "print(train_x[0])\n",
    "# You can see awful is repeated 3 times so 0, 587 == 3\n",
    "# and the is 2 times"
   ]
  },
  {
   "cell_type": "code",
   "execution_count": 367,
   "metadata": {},
   "outputs": [
    {
     "name": "stdout",
     "output_type": "stream",
     "text": [
      "One example: look at how Gordis treats the Deir Yassin massacre (see p. 75). He says accounts of the massacre are &#8220;hotly contested.&#8221; In other words, the truth cannot be ascertained. Gordis whitewashes the massacre, a war crime atrocity which is one chapter in the Israeli holocaust of the Palestinians. This type of holocaust denial will not land the denier in jail. There is not even a plaque marking the site of the Deir Yassin massacre. Never forget? When it comes to Israeli slaughters of Palestinians it is incumbent on us to forget in order to qualify as morally respectable in western eyes.Early in the morning of April 9, 1948, commandos of the Irgun, among whom was Mr. Gordis&#8217; hero Menachem Begin, and members of the Stern Gang, attacked Deir Yassin, an Arab village. It was several weeks before the end of the British Mandate and the declaration of the State of Israel. The village lay outside the area to be assigned by the United Nations to the Jewish state; it had a peaceful reputation; it was even said by a Jewish newspaper to have driven out some Arab militants. But it was located on high ground in the corridor between Tel Aviv and Jerusalem, and with the knowledge of the mainstream Jewish defense force, the Haganah, it was to be conquered and held.In spite of being better armed, the two Zionist terror gangs were at first unable to conquer the village. But after they elicited the help of a small band of Palmach troops (the elite fighters of the Haganah), Deir Yassin soon fell. The Palmach soldiers left; it was then that the massacre began. That evening over tea and cookies, in the neighboring Zionist settlement of Givat Shaul, the Jewish terrorist told foreign correspondents that over 200 Arabs were killed and forty taken prisoner. This was reported in the New York Times the very next day (April 10, 1948, p. 6).The Judaic terrorists claimed to have lost four of their own. They boasted of the &#34;battle&#34; but made no mention of the male Palestinians whom they had loaded onto trucks, paraded through some Jewish sections of Jerusalem, and then taken back to a stone quarry between Givat Shaul and Deir Yassin and shot to death. On April 13, 1948 the New York Times reported that 254 Arab men, women, and children had been killed at Deir Yassin; there was no mention of prisoners.The official Zionist leaders of the Haganah denounced the dissidents of the Irgun and the Stern Gang accusing them of massacre, robbery, looting and barbarism. Ben Gurion even sent an apology to King Abdullah. But this horrific act served the future state of Israel well. As Begin said, &#34;Arabs throughout the country, induced to believe wild tales of 'Irgun butchery' were seized with limitless panic and started to flee for their lives. This mass flight soon developed into a maddened, uncontrollable stampede. The political and economic significance of this development can hardly be over estimated.&#8221; (Begin, &#34;The Revolt,&#34; p.164)  While modern historians argue that Begin's claims were exaggerated and that the actual number of Arabs killed was closer to 100, they all agree that the massacre at Deir Yassin marked the beginning of the depopulation of over 400 Arab villages and the exile of over 700,000 Palestinians.In spite of protests by Martin Buber, Albert Einstein and other noted scholars, within a year the village was repopulated with orthodox Judaic immigrants from Poland, Rumania and Slovakia. Its Palestinian cemetery was bulldozed and its name was wiped off the map. It is today completely obliterated. The massacre site is a few hundred yards from the Yad Vashem Holocaust Museum dedicated to victims of the Nazis. Yad Vashem makes no mention of the massacre of Arabs by the Judaic Nazis among whom we number Menachem Begin. Gordis has written a whitewash of a mass murderer. Shame!\n",
      "[[0.         0.02936131 0.         ... 0.         0.         0.        ]]\n"
     ]
    }
   ],
   "source": [
    "# The above can also done in 2steps\n",
    "from sklearn.feature_extraction.text import CountVectorizer, TfidfVectorizer\n",
    "vectorizer = TfidfVectorizer()\n",
    "\n",
    "train_x_vectors = vectorizer.fit_transform(train_x)\n",
    "test_x_vectors = vectorizer.fit_transform(test_x)\n",
    "\n",
    "print(train_x[0])\n",
    "print(train_x_vectors[0].toarray())\n",
    "\n",
    "\n",
    "\n"
   ]
  },
  {
   "cell_type": "markdown",
   "metadata": {},
   "source": [
    "## Classification"
   ]
  },
  {
   "cell_type": "markdown",
   "metadata": {},
   "source": [
    "#### Linear SVM"
   ]
  },
  {
   "cell_type": "code",
   "execution_count": 368,
   "metadata": {},
   "outputs": [
    {
     "data": {
      "text/plain": [
       "array(['NEGATIVE'], dtype='<U8')"
      ]
     },
     "execution_count": 368,
     "metadata": {},
     "output_type": "execute_result"
    }
   ],
   "source": [
    "from sklearn import svm\n",
    "\n",
    "clf_svm = svm.SVC(kernel = \"linear\")\n",
    "\n",
    "clf_svm.fit(train_x_vectors, train_y)\n",
    "\n",
    "test_x[0]\n",
    "\n",
    "clf_svm.predict(train_x_vectors[0])\n"
   ]
  },
  {
   "cell_type": "markdown",
   "metadata": {},
   "source": [
    "### Decision Tree"
   ]
  },
  {
   "cell_type": "code",
   "execution_count": 369,
   "metadata": {},
   "outputs": [
    {
     "data": {
      "text/plain": [
       "array(['NEGATIVE'], dtype='<U8')"
      ]
     },
     "execution_count": 369,
     "metadata": {},
     "output_type": "execute_result"
    }
   ],
   "source": [
    "from sklearn.tree import DecisionTreeClassifier\n",
    "clf_dec = DecisionTreeClassifier()\n",
    "clf_dec.fit(train_x_vectors, train_y)\n",
    "clf_dec.predict(train_x_vectors[0])"
   ]
  },
  {
   "cell_type": "markdown",
   "metadata": {},
   "source": [
    "### Naive Bayes"
   ]
  },
  {
   "cell_type": "code",
   "execution_count": 370,
   "metadata": {},
   "outputs": [
    {
     "data": {
      "text/plain": [
       "array(['NEGATIVE'], dtype='<U8')"
      ]
     },
     "execution_count": 370,
     "metadata": {},
     "output_type": "execute_result"
    }
   ],
   "source": [
    "from sklearn.naive_bayes import GaussianNB\n",
    "clf_gnb = GaussianNB()\n",
    "clf_gnb.fit(train_x_vectors.todense(), train_y)\n",
    "clf_gnb.predict(train_x_vectors[0].todense())"
   ]
  },
  {
   "cell_type": "markdown",
   "metadata": {},
   "source": [
    "\n",
    "### Logistric Regression"
   ]
  },
  {
   "cell_type": "code",
   "execution_count": 371,
   "metadata": {},
   "outputs": [
    {
     "data": {
      "text/plain": [
       "array(['NEGATIVE'], dtype='<U8')"
      ]
     },
     "execution_count": 371,
     "metadata": {},
     "output_type": "execute_result"
    }
   ],
   "source": [
    "from sklearn.linear_model import LogisticRegression\n",
    "clf_log = LogisticRegression()\n",
    "clf_log.fit(train_x_vectors.todense(), train_y)\n",
    "clf_log.predict(train_x_vectors[0].todense())"
   ]
  },
  {
   "cell_type": "markdown",
   "metadata": {},
   "source": [
    "## Evaluation"
   ]
  },
  {
   "cell_type": "code",
   "execution_count": 372,
   "metadata": {},
   "outputs": [
    {
     "name": "stdout",
     "output_type": "stream",
     "text": [
      "0.9885321100917431\n",
      "1.0\n",
      "0.9839449541284404\n",
      "0.9655963302752294\n"
     ]
    }
   ],
   "source": [
    "# Mean Accuracy\n",
    "print(clf_svm.score(train_x_vectors, train_y))\n",
    "print(clf_dec.score(train_x_vectors, train_y))\n",
    "print(clf_gnb.score(train_x_vectors.toarray(), train_y))\n",
    "\n",
    "print(clf_log.score(train_x_vectors.toarray(), train_y))"
   ]
  },
  {
   "cell_type": "code",
   "execution_count": 373,
   "metadata": {},
   "outputs": [
    {
     "data": {
      "text/plain": [
       "array([1., 1.])"
      ]
     },
     "execution_count": 373,
     "metadata": {},
     "output_type": "execute_result"
    }
   ],
   "source": [
    "# F1 score\n",
    "from sklearn.metrics import f1_score\n",
    "\n",
    "f1_score(train_y, clf_svm.predict(train_x_vectors), average = None, labels = [Sentiment.POSITIVE, Sentiment.NEGATIVE])\n",
    "\n",
    "f1_score(train_y, clf_dec.predict(train_x_vectors), average = None, labels = [Sentiment.POSITIVE, Sentiment.NEGATIVE])\n",
    "# Now actualy it comes negative also will have more accuracy"
   ]
  },
  {
   "cell_type": "code",
   "execution_count": 374,
   "metadata": {},
   "outputs": [
    {
     "data": {
      "text/plain": [
       "['NEGATIVE', 'POSITIVE', 'NEGATIVE', 'POSITIVE', 'NEGATIVE']"
      ]
     },
     "execution_count": 374,
     "metadata": {},
     "output_type": "execute_result"
    }
   ],
   "source": [
    "train_y[0:5]"
   ]
  },
  {
   "cell_type": "code",
   "execution_count": 375,
   "metadata": {
    "scrolled": true
   },
   "outputs": [
    {
     "data": {
      "text/plain": [
       "208"
      ]
     },
     "execution_count": 375,
     "metadata": {},
     "output_type": "execute_result"
    }
   ],
   "source": [
    "test_y.count(Sentiment.POSITIVE)"
   ]
  },
  {
   "cell_type": "markdown",
   "metadata": {},
   "source": [
    "### Check our Analysis\n",
    "\n"
   ]
  },
  {
   "cell_type": "code",
   "execution_count": 376,
   "metadata": {},
   "outputs": [],
   "source": [
    "#test_set = ['very fun', \"bad book do not buy\", 'horrible waste of time']\n",
    "#new_test = vectorizer.transform(test_set)\n",
    "\n",
    "#clf_svm.predict(new_test)\n"
   ]
  },
  {
   "cell_type": "markdown",
   "metadata": {},
   "source": [
    "#### Tuning our model(with Grid Search)"
   ]
  },
  {
   "cell_type": "code",
   "execution_count": 379,
   "metadata": {},
   "outputs": [
    {
     "data": {
      "text/plain": [
       "GridSearchCV(cv=5, estimator=SVC(),\n",
       "             param_grid={'C': (1, 4, 8, 16, 32), 'kernel': ('linear', 'rbf')})"
      ]
     },
     "execution_count": 379,
     "metadata": {},
     "output_type": "execute_result"
    }
   ],
   "source": [
    "from sklearn.model_selection import GridSearchCV\n",
    "\n",
    "parameters = {'kernel': ('linear', 'rbf'), 'C': (1,4,8,16,32)}\n",
    "\n",
    "svc = svm.SVC()\n",
    "clf = GridSearchCV(svc, parameters, cv=5)\n",
    "clf.fit(train_x_vectors, train_y)\n"
   ]
  },
  {
   "cell_type": "code",
   "execution_count": 382,
   "metadata": {},
   "outputs": [
    {
     "name": "stdout",
     "output_type": "stream",
     "text": [
      "1.0\n"
     ]
    }
   ],
   "source": [
    "print(clf.score(train_x_vectors, train_y))"
   ]
  },
  {
   "cell_type": "markdown",
   "metadata": {},
   "source": [
    "## Saving Model"
   ]
  },
  {
   "cell_type": "code",
   "execution_count": 387,
   "metadata": {},
   "outputs": [],
   "source": [
    "import pickle\n",
    "with open('C:\\\\Users\\\\89606\\\\Documents\\\\jupyter notebook\\\\sentiment_classifier.pkl', \"wb\") as f:\n",
    "    pickle.dump(clf,f)"
   ]
  },
  {
   "cell_type": "markdown",
   "metadata": {},
   "source": [
    "## Load model"
   ]
  },
  {
   "cell_type": "code",
   "execution_count": 388,
   "metadata": {},
   "outputs": [],
   "source": [
    "with open(\"C:\\\\Users\\\\89606\\\\Documents\\\\jupyter notebook\\\\sentiment_classifier.pkl\", \"rb\") as f:\n",
    "    loaded_clf = pickle.load(f)"
   ]
  },
  {
   "cell_type": "code",
   "execution_count": 392,
   "metadata": {},
   "outputs": [
    {
     "name": "stdout",
     "output_type": "stream",
     "text": [
      "One example: look at how Gordis treats the Deir Yassin massacre (see p. 75). He says accounts of the massacre are &#8220;hotly contested.&#8221; In other words, the truth cannot be ascertained. Gordis whitewashes the massacre, a war crime atrocity which is one chapter in the Israeli holocaust of the Palestinians. This type of holocaust denial will not land the denier in jail. There is not even a plaque marking the site of the Deir Yassin massacre. Never forget? When it comes to Israeli slaughters of Palestinians it is incumbent on us to forget in order to qualify as morally respectable in western eyes.Early in the morning of April 9, 1948, commandos of the Irgun, among whom was Mr. Gordis&#8217; hero Menachem Begin, and members of the Stern Gang, attacked Deir Yassin, an Arab village. It was several weeks before the end of the British Mandate and the declaration of the State of Israel. The village lay outside the area to be assigned by the United Nations to the Jewish state; it had a peaceful reputation; it was even said by a Jewish newspaper to have driven out some Arab militants. But it was located on high ground in the corridor between Tel Aviv and Jerusalem, and with the knowledge of the mainstream Jewish defense force, the Haganah, it was to be conquered and held.In spite of being better armed, the two Zionist terror gangs were at first unable to conquer the village. But after they elicited the help of a small band of Palmach troops (the elite fighters of the Haganah), Deir Yassin soon fell. The Palmach soldiers left; it was then that the massacre began. That evening over tea and cookies, in the neighboring Zionist settlement of Givat Shaul, the Jewish terrorist told foreign correspondents that over 200 Arabs were killed and forty taken prisoner. This was reported in the New York Times the very next day (April 10, 1948, p. 6).The Judaic terrorists claimed to have lost four of their own. They boasted of the &#34;battle&#34; but made no mention of the male Palestinians whom they had loaded onto trucks, paraded through some Jewish sections of Jerusalem, and then taken back to a stone quarry between Givat Shaul and Deir Yassin and shot to death. On April 13, 1948 the New York Times reported that 254 Arab men, women, and children had been killed at Deir Yassin; there was no mention of prisoners.The official Zionist leaders of the Haganah denounced the dissidents of the Irgun and the Stern Gang accusing them of massacre, robbery, looting and barbarism. Ben Gurion even sent an apology to King Abdullah. But this horrific act served the future state of Israel well. As Begin said, &#34;Arabs throughout the country, induced to believe wild tales of 'Irgun butchery' were seized with limitless panic and started to flee for their lives. This mass flight soon developed into a maddened, uncontrollable stampede. The political and economic significance of this development can hardly be over estimated.&#8221; (Begin, &#34;The Revolt,&#34; p.164)  While modern historians argue that Begin's claims were exaggerated and that the actual number of Arabs killed was closer to 100, they all agree that the massacre at Deir Yassin marked the beginning of the depopulation of over 400 Arab villages and the exile of over 700,000 Palestinians.In spite of protests by Martin Buber, Albert Einstein and other noted scholars, within a year the village was repopulated with orthodox Judaic immigrants from Poland, Rumania and Slovakia. Its Palestinian cemetery was bulldozed and its name was wiped off the map. It is today completely obliterated. The massacre site is a few hundred yards from the Yad Vashem Holocaust Museum dedicated to victims of the Nazis. Yad Vashem makes no mention of the massacre of Arabs by the Judaic Nazis among whom we number Menachem Begin. Gordis has written a whitewash of a mass murderer. Shame!\n"
     ]
    },
    {
     "data": {
      "text/plain": [
       "array(['NEGATIVE'], dtype='<U8')"
      ]
     },
     "execution_count": 392,
     "metadata": {},
     "output_type": "execute_result"
    }
   ],
   "source": [
    "print(train_x[0])\n",
    "loaded_clf.predict(train_x_vectors[0])"
   ]
  },
  {
   "cell_type": "code",
   "execution_count": null,
   "metadata": {},
   "outputs": [],
   "source": []
  }
 ],
 "metadata": {
  "kernelspec": {
   "display_name": "Python 3",
   "language": "python",
   "name": "python3"
  },
  "language_info": {
   "codemirror_mode": {
    "name": "ipython",
    "version": 3
   },
   "file_extension": ".py",
   "mimetype": "text/x-python",
   "name": "python",
   "nbconvert_exporter": "python",
   "pygments_lexer": "ipython3",
   "version": "3.8.3rc1"
  }
 },
 "nbformat": 4,
 "nbformat_minor": 4
}
